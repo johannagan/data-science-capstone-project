{
 "cells": [
  {
   "cell_type": "markdown",
   "metadata": {},
   "source": [
    "**Capstone Project - The Battle of the Neighborhoods**\n",
    "====================================================="
   ]
  },
  {
   "cell_type": "markdown",
   "metadata": {},
   "source": [
    "## Introduction"
   ]
  },
  {
   "cell_type": "markdown",
   "metadata": {},
   "source": [
    "We serve a client population of retirees who are looking to move to the beautiful island of Oahu, Hawaii. Being that the majority of our clients are over the age of 65, it is important that they relocate to a neighborhood with easy access to medical care. Areas with higher concentrations of hospitals and medical facilities are preferred. Secondary would be easy access to alternative care and wellness centers.\n",
    "\n",
    "Oahu is the third largest of eight major islands that make up Hawaii. It is also the location of the state capital, Honolulu, which is situated along the southeast coast of the island. Oahu is home to roughly one million people, comprising two-thirds of the population of Hawaii.\n",
    "\n",
    "We will use data science tools to scrape, organize, and visualize data for our clients. Our goals are to find them a most suitable home for their retirement."
   ]
  },
  {
   "cell_type": "markdown",
   "metadata": {},
   "source": [
    "## Data"
   ]
  },
  {
   "cell_type": "markdown",
   "metadata": {},
   "source": [
    "For this project we will need the following data:\n",
    "* List of neighborhoods in Oahu, Hawaii to lay the groundwork of potential places to live.\n",
    "* Coordinates of the neighborhoods for mapping and clustering nearby medical centers.\n",
    "* List of health care and wellness facilities within Oahu, along with their coordinates. The facilities will be categorized and mapped, allowing the clients to decide which area is optimal for their needs."
   ]
  }
 ],
 "metadata": {
  "kernelspec": {
   "display_name": "Python",
   "language": "python",
   "name": "conda-env-python-py"
  },
  "language_info": {
   "codemirror_mode": {
    "name": "ipython",
    "version": 3
   },
   "file_extension": ".py",
   "mimetype": "text/x-python",
   "name": "python",
   "nbconvert_exporter": "python",
   "pygments_lexer": "ipython3",
   "version": "3.6.12"
  }
 },
 "nbformat": 4,
 "nbformat_minor": 4
}
